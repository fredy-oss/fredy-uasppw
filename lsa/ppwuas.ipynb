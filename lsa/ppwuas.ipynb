{
 "cells": [
  {
   "cell_type": "markdown",
   "id": "70163905",
   "metadata": {},
   "source": [
    "# Crawling"
   ]
  },
  {
   "cell_type": "markdown",
   "id": "865eab59",
   "metadata": {},
   "source": [
    "Data crawling adalah program yang menghubungkan halaman web, kemudian mengunduh kontennya. Program crawling dalam data science hanya akan online untuk mencari dua hal, yaitu data yang dicari oleh pengguna dan penjelajahan target dengan jangkauan yang lebih luas."
   ]
  },
  {
   "cell_type": "code",
   "execution_count": 13,
   "id": "cca957e1",
   "metadata": {},
   "outputs": [],
   "source": [
    "# data visualisation and manipulation\n",
    "import numpy as np\n",
    "import pandas as pd\n",
    "import matplotlib.pyplot as plt\n",
    "from matplotlib import style\n",
    "import seaborn as sns\n",
    "#configure\n",
    "# sets matplotlib to inline and displays graphs below the corressponding cell.\n",
    "%matplotlib inline  \n",
    "style.use('fivethirtyeight')\n",
    "sns.set(style='whitegrid',color_codes=True)\n",
    "\n",
    "#import nltk\n",
    "import nltk\n",
    "from nltk.corpus import stopwords\n",
    "from nltk.tokenize import word_tokenize,sent_tokenize\n",
    "\n",
    "#preprocessing\n",
    "from nltk.corpus import stopwords  #stopwords\n",
    "from nltk import word_tokenize,sent_tokenize # tokenizing\n",
    "from nltk.stem import PorterStemmer,LancasterStemmer  # using the Porter Stemmer and Lancaster Stemmer and others\n",
    "from nltk.stem.snowball import SnowballStemmer\n",
    "from nltk.stem import WordNetLemmatizer  # lammatizer from WordNet\n",
    "\n",
    "# for named entity recognition (NER)\n",
    "from nltk import ne_chunk\n",
    "\n",
    "# vectorizers for creating the document-term-matrix (DTM)\n",
    "from sklearn.feature_extraction.text import TfidfVectorizer,CountVectorizer\n",
    "\n",
    "#stop-words\n",
    "stop_words=set(nltk.corpus.stopwords.words('english'))"
   ]
  },
  {
   "cell_type": "code",
   "execution_count": 14,
   "id": "817f117e",
   "metadata": {},
   "outputs": [],
   "source": [
    "df = pd.read_csv('./hasilmanajemen.csv')"
   ]
  },
  {
   "cell_type": "code",
   "execution_count": 15,
   "id": "b237bd49",
   "metadata": {},
   "outputs": [
    {
     "data": {
      "text/html": [
       "<div>\n",
       "<style scoped>\n",
       "    .dataframe tbody tr th:only-of-type {\n",
       "        vertical-align: middle;\n",
       "    }\n",
       "\n",
       "    .dataframe tbody tr th {\n",
       "        vertical-align: top;\n",
       "    }\n",
       "\n",
       "    .dataframe thead th {\n",
       "        text-align: right;\n",
       "    }\n",
       "</style>\n",
       "<table border=\"1\" class=\"dataframe\">\n",
       "  <thead>\n",
       "    <tr style=\"text-align: right;\">\n",
       "      <th></th>\n",
       "      <th>judul</th>\n",
       "      <th>penulis</th>\n",
       "      <th>dosen_1</th>\n",
       "      <th>dosen_2</th>\n",
       "      <th>abstrak</th>\n",
       "    </tr>\n",
       "  </thead>\n",
       "  <tbody>\n",
       "    <tr>\n",
       "      <th>0</th>\n",
       "      <td>Pengembangan Sumber Daya Manusia Dalam Rangka ...</td>\n",
       "      <td>Penulis : Ismie Novitasari Soekarno</td>\n",
       "      <td>Dosen Pembimbing I : Dra. Hj. S. Anugrahini Ir...</td>\n",
       "      <td>Dosen Pembimbing II :Faidal. S.E, MM</td>\n",
       "      <td>ABSTRAK\\r\\nPenelitian ini bertujuan untuk mene...</td>\n",
       "    </tr>\n",
       "    <tr>\n",
       "      <th>1</th>\n",
       "      <td>PENGARUH RELATIONSHIP MARKETING TERHADAP LOYAL...</td>\n",
       "      <td>Penulis : ARYA SUBAYU</td>\n",
       "      <td>Dosen Pembimbing I : Dr.H.Pribanus Wantara.,Dr...</td>\n",
       "      <td>Dosen Pembimbing II :Hadi Purnomo, SE, MM</td>\n",
       "      <td>Tujuan penelitian ini adalah untuk mengetahui ...</td>\n",
       "    </tr>\n",
       "    <tr>\n",
       "      <th>2</th>\n",
       "      <td>Analisis Kinerja Keuangan Perusahaan yang terd...</td>\n",
       "      <td>Penulis : DIANA AGUSTINI DEWI</td>\n",
       "      <td>Dosen Pembimbing I : Drs.BAMBANG SUDARSONO.,MM</td>\n",
       "      <td>Dosen Pembimbing II :PURNAMAWATI,.SE,MSi</td>\n",
       "      <td>Diana Agustini Dewi, 2013. “Analisis Kinerja K...</td>\n",
       "    </tr>\n",
       "    <tr>\n",
       "      <th>3</th>\n",
       "      <td>PENGARUH STRUKTUR MODAL DAN LIKUIDITAS TERHADA...</td>\n",
       "      <td>Penulis : AHMAD ZAINI ALI</td>\n",
       "      <td>Dosen Pembimbing I : R. GATOT HERU PRANJOTO, S...</td>\n",
       "      <td>Dosen Pembimbing II :PURNAMAWATI, SE., MSi</td>\n",
       "      <td>Pendekatan penelitian yang digunakan dalam pen...</td>\n",
       "    </tr>\n",
       "    <tr>\n",
       "      <th>4</th>\n",
       "      <td>PENGARUH SELF EFFICACY TERHADAP PRESTASI AKADE...</td>\n",
       "      <td>Penulis : ISTIB SYAROH</td>\n",
       "      <td>Dosen Pembimbing I : Dr. Dra. Hj. Iriani Ismai...</td>\n",
       "      <td>Dosen Pembimbing II :Drs. Ec. Mudji Kuswinarno...</td>\n",
       "      <td>Tujuan dari penelitian ini adalah untuk menget...</td>\n",
       "    </tr>\n",
       "    <tr>\n",
       "      <th>5</th>\n",
       "      <td>PENGARUH FAKTOR-FAKTOR STRES KERJA TERHADAP DI...</td>\n",
       "      <td>Penulis : Saiful Rahman</td>\n",
       "      <td>Dosen Pembimbing I : Dr. Muhammad Alkirom Wild...</td>\n",
       "      <td>Dosen Pembimbing II :Helmi Buyung Aulia,S.ST.,...</td>\n",
       "      <td>ABSTRAK\\r\\n\\r\\nPenelitian ini bertujuan untuk ...</td>\n",
       "    </tr>\n",
       "    <tr>\n",
       "      <th>6</th>\n",
       "      <td>Pengaruh Budaya Terhadap Perilaku Pengemis Ana...</td>\n",
       "      <td>Penulis : Indah Permata Sari</td>\n",
       "      <td>Dosen Pembimbing I : Dr. Hj. Iriani Ismail., D...</td>\n",
       "      <td>Dosen Pembimbing II :Faidal,SE., MM</td>\n",
       "      <td>Munculnya asumsi bahwa lahirnya budaya mengemi...</td>\n",
       "    </tr>\n",
       "    <tr>\n",
       "      <th>7</th>\n",
       "      <td>Pengaruh Rekrutmen Dan Pengembangan Karir Terh...</td>\n",
       "      <td>Penulis : Zainal Abidin</td>\n",
       "      <td>Dosen Pembimbing I : Dr. Iriani Ismail,Dra.,MM</td>\n",
       "      <td>Dosen Pembimbing II :Helmi Buyung Aulia,SE.,ST...</td>\n",
       "      <td>Penelitian ini bertujuan untuk mengetahui peng...</td>\n",
       "    </tr>\n",
       "    <tr>\n",
       "      <th>8</th>\n",
       "      <td>ANALISIS PORTOFOLIO YANG OPTIMAL DI BEI DENGAN...</td>\n",
       "      <td>Penulis : Mira Dwiastuti</td>\n",
       "      <td>Dosen Pembimbing I : Hj Evaliati Amaniyah, S.E...</td>\n",
       "      <td>Dosen Pembimbing II :Echsan Gani, S.E, M.Si</td>\n",
       "      <td>Suatu keputusan investasi selalu berhubungan d...</td>\n",
       "    </tr>\n",
       "    <tr>\n",
       "      <th>9</th>\n",
       "      <td>PENGARUH IKLAN ONLINE MELALUI MEDIA FACEBOOK T...</td>\n",
       "      <td>Penulis : Hening Ari Putra</td>\n",
       "      <td>Dosen Pembimbing I : Bambang Setyo Pambudi</td>\n",
       "      <td>Dosen Pembimbing II :Suyono</td>\n",
       "      <td>Abstrak\\r\\n\\r\\nHening Ary Putra, Pengaruh Ikla...</td>\n",
       "    </tr>\n",
       "  </tbody>\n",
       "</table>\n",
       "</div>"
      ],
      "text/plain": [
       "                                               judul  \\\n",
       "0  Pengembangan Sumber Daya Manusia Dalam Rangka ...   \n",
       "1  PENGARUH RELATIONSHIP MARKETING TERHADAP LOYAL...   \n",
       "2  Analisis Kinerja Keuangan Perusahaan yang terd...   \n",
       "3  PENGARUH STRUKTUR MODAL DAN LIKUIDITAS TERHADA...   \n",
       "4  PENGARUH SELF EFFICACY TERHADAP PRESTASI AKADE...   \n",
       "5  PENGARUH FAKTOR-FAKTOR STRES KERJA TERHADAP DI...   \n",
       "6  Pengaruh Budaya Terhadap Perilaku Pengemis Ana...   \n",
       "7  Pengaruh Rekrutmen Dan Pengembangan Karir Terh...   \n",
       "8  ANALISIS PORTOFOLIO YANG OPTIMAL DI BEI DENGAN...   \n",
       "9  PENGARUH IKLAN ONLINE MELALUI MEDIA FACEBOOK T...   \n",
       "\n",
       "                               penulis  \\\n",
       "0  Penulis : Ismie Novitasari Soekarno   \n",
       "1                Penulis : ARYA SUBAYU   \n",
       "2        Penulis : DIANA AGUSTINI DEWI   \n",
       "3            Penulis : AHMAD ZAINI ALI   \n",
       "4              Penulis : ISTIB SYAROH    \n",
       "5              Penulis : Saiful Rahman   \n",
       "6         Penulis : Indah Permata Sari   \n",
       "7              Penulis : Zainal Abidin   \n",
       "8             Penulis : Mira Dwiastuti   \n",
       "9           Penulis : Hening Ari Putra   \n",
       "\n",
       "                                             dosen_1  \\\n",
       "0  Dosen Pembimbing I : Dra. Hj. S. Anugrahini Ir...   \n",
       "1  Dosen Pembimbing I : Dr.H.Pribanus Wantara.,Dr...   \n",
       "2     Dosen Pembimbing I : Drs.BAMBANG SUDARSONO.,MM   \n",
       "3  Dosen Pembimbing I : R. GATOT HERU PRANJOTO, S...   \n",
       "4  Dosen Pembimbing I : Dr. Dra. Hj. Iriani Ismai...   \n",
       "5  Dosen Pembimbing I : Dr. Muhammad Alkirom Wild...   \n",
       "6  Dosen Pembimbing I : Dr. Hj. Iriani Ismail., D...   \n",
       "7     Dosen Pembimbing I : Dr. Iriani Ismail,Dra.,MM   \n",
       "8  Dosen Pembimbing I : Hj Evaliati Amaniyah, S.E...   \n",
       "9         Dosen Pembimbing I : Bambang Setyo Pambudi   \n",
       "\n",
       "                                             dosen_2  \\\n",
       "0               Dosen Pembimbing II :Faidal. S.E, MM   \n",
       "1          Dosen Pembimbing II :Hadi Purnomo, SE, MM   \n",
       "2           Dosen Pembimbing II :PURNAMAWATI,.SE,MSi   \n",
       "3         Dosen Pembimbing II :PURNAMAWATI, SE., MSi   \n",
       "4  Dosen Pembimbing II :Drs. Ec. Mudji Kuswinarno...   \n",
       "5  Dosen Pembimbing II :Helmi Buyung Aulia,S.ST.,...   \n",
       "6                Dosen Pembimbing II :Faidal,SE., MM   \n",
       "7  Dosen Pembimbing II :Helmi Buyung Aulia,SE.,ST...   \n",
       "8        Dosen Pembimbing II :Echsan Gani, S.E, M.Si   \n",
       "9                        Dosen Pembimbing II :Suyono   \n",
       "\n",
       "                                             abstrak  \n",
       "0  ABSTRAK\\r\\nPenelitian ini bertujuan untuk mene...  \n",
       "1  Tujuan penelitian ini adalah untuk mengetahui ...  \n",
       "2  Diana Agustini Dewi, 2013. “Analisis Kinerja K...  \n",
       "3  Pendekatan penelitian yang digunakan dalam pen...  \n",
       "4  Tujuan dari penelitian ini adalah untuk menget...  \n",
       "5  ABSTRAK\\r\\n\\r\\nPenelitian ini bertujuan untuk ...  \n",
       "6  Munculnya asumsi bahwa lahirnya budaya mengemi...  \n",
       "7  Penelitian ini bertujuan untuk mengetahui peng...  \n",
       "8  Suatu keputusan investasi selalu berhubungan d...  \n",
       "9  Abstrak\\r\\n\\r\\nHening Ary Putra, Pengaruh Ikla...  "
      ]
     },
     "execution_count": 15,
     "metadata": {},
     "output_type": "execute_result"
    }
   ],
   "source": [
    "df.head(10)"
   ]
  },
  {
   "cell_type": "code",
   "execution_count": 16,
   "id": "a3508f35",
   "metadata": {},
   "outputs": [],
   "source": [
    "df.drop(['judul'],axis=1,inplace=True)\n",
    "df.drop(['penulis'],axis=1,inplace=True)\n",
    "df.drop(['dosen_1'],axis=1,inplace=True)\n",
    "df.drop(['dosen_2'],axis=1,inplace=True)"
   ]
  },
  {
   "cell_type": "code",
   "execution_count": 17,
   "id": "74a8610f",
   "metadata": {},
   "outputs": [
    {
     "data": {
      "text/html": [
       "<div>\n",
       "<style scoped>\n",
       "    .dataframe tbody tr th:only-of-type {\n",
       "        vertical-align: middle;\n",
       "    }\n",
       "\n",
       "    .dataframe tbody tr th {\n",
       "        vertical-align: top;\n",
       "    }\n",
       "\n",
       "    .dataframe thead th {\n",
       "        text-align: right;\n",
       "    }\n",
       "</style>\n",
       "<table border=\"1\" class=\"dataframe\">\n",
       "  <thead>\n",
       "    <tr style=\"text-align: right;\">\n",
       "      <th></th>\n",
       "      <th>abstrak</th>\n",
       "    </tr>\n",
       "  </thead>\n",
       "  <tbody>\n",
       "    <tr>\n",
       "      <th>0</th>\n",
       "      <td>ABSTRAK\\r\\nPenelitian ini bertujuan untuk mene...</td>\n",
       "    </tr>\n",
       "    <tr>\n",
       "      <th>1</th>\n",
       "      <td>Tujuan penelitian ini adalah untuk mengetahui ...</td>\n",
       "    </tr>\n",
       "    <tr>\n",
       "      <th>2</th>\n",
       "      <td>Diana Agustini Dewi, 2013. “Analisis Kinerja K...</td>\n",
       "    </tr>\n",
       "    <tr>\n",
       "      <th>3</th>\n",
       "      <td>Pendekatan penelitian yang digunakan dalam pen...</td>\n",
       "    </tr>\n",
       "    <tr>\n",
       "      <th>4</th>\n",
       "      <td>Tujuan dari penelitian ini adalah untuk menget...</td>\n",
       "    </tr>\n",
       "    <tr>\n",
       "      <th>5</th>\n",
       "      <td>ABSTRAK\\r\\n\\r\\nPenelitian ini bertujuan untuk ...</td>\n",
       "    </tr>\n",
       "    <tr>\n",
       "      <th>6</th>\n",
       "      <td>Munculnya asumsi bahwa lahirnya budaya mengemi...</td>\n",
       "    </tr>\n",
       "    <tr>\n",
       "      <th>7</th>\n",
       "      <td>Penelitian ini bertujuan untuk mengetahui peng...</td>\n",
       "    </tr>\n",
       "    <tr>\n",
       "      <th>8</th>\n",
       "      <td>Suatu keputusan investasi selalu berhubungan d...</td>\n",
       "    </tr>\n",
       "    <tr>\n",
       "      <th>9</th>\n",
       "      <td>Abstrak\\r\\n\\r\\nHening Ary Putra, Pengaruh Ikla...</td>\n",
       "    </tr>\n",
       "  </tbody>\n",
       "</table>\n",
       "</div>"
      ],
      "text/plain": [
       "                                             abstrak\n",
       "0  ABSTRAK\\r\\nPenelitian ini bertujuan untuk mene...\n",
       "1  Tujuan penelitian ini adalah untuk mengetahui ...\n",
       "2  Diana Agustini Dewi, 2013. “Analisis Kinerja K...\n",
       "3  Pendekatan penelitian yang digunakan dalam pen...\n",
       "4  Tujuan dari penelitian ini adalah untuk menget...\n",
       "5  ABSTRAK\\r\\n\\r\\nPenelitian ini bertujuan untuk ...\n",
       "6  Munculnya asumsi bahwa lahirnya budaya mengemi...\n",
       "7  Penelitian ini bertujuan untuk mengetahui peng...\n",
       "8  Suatu keputusan investasi selalu berhubungan d...\n",
       "9  Abstrak\\r\\n\\r\\nHening Ary Putra, Pengaruh Ikla..."
      ]
     },
     "execution_count": 17,
     "metadata": {},
     "output_type": "execute_result"
    }
   ],
   "source": [
    "df.head(10)"
   ]
  },
  {
   "cell_type": "code",
   "execution_count": 18,
   "id": "8314043e",
   "metadata": {},
   "outputs": [],
   "source": [
    "vect =TfidfVectorizer(stop_words=stop_words,max_features=1000) # to play with. min_df,max_df,max_features etc..."
   ]
  },
  {
   "cell_type": "code",
   "execution_count": 19,
   "id": "7db04acd",
   "metadata": {
    "scrolled": true
   },
   "outputs": [],
   "source": [
    "vect_text=vect.fit_transform(df['abstrak'].values.astype('U'))"
   ]
  },
  {
   "cell_type": "code",
   "execution_count": 20,
   "id": "04f0861a",
   "metadata": {},
   "outputs": [
    {
     "name": "stdout",
     "output_type": "stream",
     "text": [
      "(100, 1000)\n",
      "         0    1         2         3    4         5        6    7         8    \\\n",
      "0   0.087101  0.0  0.079784  0.159569  0.0  0.000000  0.00000  0.0  0.000000   \n",
      "1   0.000000  0.0  0.000000  0.000000  0.0  0.000000  0.00000  0.0  0.000000   \n",
      "2   0.000000  0.0  0.000000  0.000000  0.0  0.000000  0.00000  0.0  0.000000   \n",
      "3   0.000000  0.0  0.000000  0.000000  0.0  0.000000  0.00000  0.0  0.046109   \n",
      "4   0.000000  0.0  0.000000  0.000000  0.0  0.000000  0.00000  0.0  0.000000   \n",
      "..       ...  ...       ...       ...  ...       ...      ...  ...       ...   \n",
      "95  0.000000  0.0  0.000000  0.071306  0.0  0.000000  0.00000  0.0  0.000000   \n",
      "96  0.000000  0.0  0.000000  0.000000  0.0  0.000000  0.00000  0.0  0.000000   \n",
      "97  0.000000  0.0  0.064440  0.000000  0.0  0.000000  0.07932  0.0  0.000000   \n",
      "98  0.000000  0.0  0.081642  0.000000  0.0  0.000000  0.00000  0.0  0.000000   \n",
      "99  0.000000  0.0  0.000000  0.000000  0.0  0.048771  0.00000  0.0  0.000000   \n",
      "\n",
      "         9    ...  990  991  992  993       994       995  996       997  998  \\\n",
      "0   0.000000  ...  0.0  0.0  0.0  0.0  0.000000  0.000000  0.0  0.089600  0.0   \n",
      "1   0.000000  ...  0.0  0.0  0.0  0.0  0.000000  0.000000  0.0  0.071729  0.0   \n",
      "2   0.000000  ...  0.0  0.0  0.0  0.0  0.000000  0.000000  0.0  0.126823  0.0   \n",
      "3   0.000000  ...  0.0  0.0  0.0  0.0  0.000000  0.000000  0.0  0.104596  0.0   \n",
      "4   0.071575  ...  0.0  0.0  0.0  0.0  0.000000  0.000000  0.0  0.104616  0.0   \n",
      "..       ...  ...  ...  ...  ...  ...       ...       ...  ...       ...  ...   \n",
      "95  0.000000  ...  0.0  0.0  0.0  0.0  0.035145  0.164362  0.0  0.180176  0.0   \n",
      "96  0.000000  ...  0.0  0.0  0.0  0.0  0.000000  0.000000  0.0  0.117435  0.0   \n",
      "97  0.000000  ...  0.0  0.0  0.0  0.0  0.000000  0.000000  0.0  0.090459  0.0   \n",
      "98  0.000000  ...  0.0  0.0  0.0  0.0  0.080478  0.000000  0.0  0.114607  0.0   \n",
      "99  0.000000  ...  0.0  0.0  0.0  0.0  0.000000  0.000000  0.0  0.112883  0.0   \n",
      "\n",
      "         999  \n",
      "0   0.000000  \n",
      "1   0.000000  \n",
      "2   0.000000  \n",
      "3   0.000000  \n",
      "4   0.000000  \n",
      "..       ...  \n",
      "95  0.000000  \n",
      "96  0.000000  \n",
      "97  0.000000  \n",
      "98  0.000000  \n",
      "99  0.051488  \n",
      "\n",
      "[100 rows x 1000 columns]\n"
     ]
    }
   ],
   "source": [
    "print(vect_text.shape)\n",
    "#print(vect_text)\n",
    "type(vect_text)\n",
    "df = pd.DataFrame(vect_text.toarray())\n",
    "print(df)\n",
    "idf=vect.idf_"
   ]
  },
  {
   "cell_type": "code",
   "execution_count": 21,
   "id": "e3670eed",
   "metadata": {},
   "outputs": [],
   "source": [
    "idf=vect.idf_"
   ]
  },
  {
   "cell_type": "code",
   "execution_count": 22,
   "id": "e8ca88a6",
   "metadata": {},
   "outputs": [
    {
     "name": "stdout",
     "output_type": "stream",
     "text": [
      "dan yamaha\n",
      "1.0200006667066694\n",
      "4.921973336281314\n"
     ]
    },
    {
     "name": "stderr",
     "output_type": "stream",
     "text": [
      "c:\\users\\asus\\appdata\\local\\programs\\python\\python39\\lib\\site-packages\\sklearn\\utils\\deprecation.py:87: FutureWarning: Function get_feature_names is deprecated; get_feature_names is deprecated in 1.0 and will be removed in 1.2. Please use get_feature_names_out instead.\n",
      "  warnings.warn(msg, category=FutureWarning)\n"
     ]
    }
   ],
   "source": [
    "dd=dict(zip(vect.get_feature_names(), idf))\n",
    "l=sorted(dd, key=(dd).get)\n",
    "# print(l)\n",
    "print(l[0],l[-1])\n",
    "print(dd['dan'])\n",
    "print(dd['yamaha'])  # police is most common and forecast is least common among the news headlines."
   ]
  },
  {
   "cell_type": "markdown",
   "id": "ce63be9d",
   "metadata": {},
   "source": [
    "<h1>LSA</h1>"
   ]
  },
  {
   "cell_type": "markdown",
   "id": "9252cd56",
   "metadata": {},
   "source": [
    "<p>Latent Semantic Analysis (LSA) merupakan sebuah metode yang memanfaatkan model statistik matematis untuk menganalisa struktur semantik suatu teks. LSA bisa digunakan untuk menilai esai dengan mengkonversikan esai menjadi matriks-matriks yang diberi nilai pada masing-masing term untuk dicari kesamaan dengan term referensi.</p>"
   ]
  },
  {
   "cell_type": "markdown",
   "id": "b24b0bf6",
   "metadata": {},
   "source": [
    "<h1>Algoritma LSA</h1>"
   ]
  },
  {
   "cell_type": "markdown",
   "id": "e2b8adf6",
   "metadata": {},
   "source": [
    "<p>Tahapan-tahapan algoritma LSA dalam prosessing teks</p>"
   ]
  },
  {
   "cell_type": "markdown",
   "id": "03eb4d2b",
   "metadata": {},
   "source": [
    "<h1>Menghitung Term-document Matrix</h1> "
   ]
  },
  {
   "cell_type": "markdown",
   "id": "7b82c49c",
   "metadata": {},
   "source": [
    "<p>Document Term Matrix merupakan algoritma – Metode perhitungan yang sering kita temui dalam text minning.</p>"
   ]
  },
  {
   "cell_type": "markdown",
   "id": "3bd5605e",
   "metadata": {},
   "source": [
    "<p>Melalui Document Term Matrix, kita dapat melakukan analisis yang lebih menarik. Mudah untuk menentukan jumlah kata individual untuk setiap dokumen atau untuk semua dokumen. Misalkan untuk menghitung agregat dan statistik dasar seperti jumlah istilah rata-rata, mean, median, mode, varians, dan deviasi standar dari panjang dokumen, serta dapat mengetahui istilah mana yang lebih sering dalam kumpulan dokumen dan dapat menggunakan informasi tersebut untuk menentukan istilah mana yang lebih mungkin “mewakili” dokumen tersebut.</p>"
   ]
  },
  {
   "cell_type": "markdown",
   "id": "095b8ea4",
   "metadata": {},
   "source": [
    "<h1>Singular Value Decomposition</h1>"
   ]
  },
  {
   "cell_type": "markdown",
   "id": "86ed600a",
   "metadata": {},
   "source": [
    "<p>Singular Value Decomposition adalah seuatu teknik untuk mendekomposisi matriks berukuran apa saja (biasanya diaplikasikan untuk matriks dengan ukuran sangat besar), untuk mempermudah pengolahan data. Hasil dari SVD ini adalah singular value yang disimpan dalam sebuah matriks diagonal, D,  dalam urutan yang sesuai dengan koresponding singular vector-ya.</p>"
   ]
  },
  {
   "cell_type": "code",
   "execution_count": 23,
   "id": "05c6e8d2",
   "metadata": {},
   "outputs": [],
   "source": [
    "from sklearn.decomposition import TruncatedSVD\n",
    "lsa_model = TruncatedSVD(n_components=10, algorithm='randomized', n_iter=10, random_state=42)\n",
    "\n",
    "lsa_top=lsa_model.fit_transform(vect_text)"
   ]
  },
  {
   "cell_type": "code",
   "execution_count": 24,
   "id": "b2927e29",
   "metadata": {},
   "outputs": [
    {
     "name": "stdout",
     "output_type": "stream",
     "text": [
      "[[ 3.72417772e-01  2.59282405e-01 -5.97275294e-02  4.79216460e-02\n",
      "  -6.78031341e-02 -1.42669594e-01  6.04199907e-02 -9.94604695e-03\n",
      "  -3.50384426e-01  2.17987579e-03]\n",
      " [ 2.59850250e-01  1.51177073e-02 -3.37760495e-02  1.72728208e-01\n",
      "  -1.10159067e-01 -2.21663118e-01 -6.32616610e-02  5.22082296e-02\n",
      "  -2.37810984e-01  3.82511860e-02]\n",
      " [ 2.34394468e-01  1.57873300e-01  4.44924517e-01 -2.61600376e-03\n",
      "   5.84453178e-02  8.72361435e-02  5.73672222e-02  8.43275048e-02\n",
      "   1.23987988e-01  2.88152869e-01]\n",
      " [ 3.08517923e-01  1.16419068e-01  3.88600007e-01  1.14718494e-02\n",
      "   8.66462126e-02  4.66737044e-02 -5.74621761e-02  4.91242874e-01\n",
      "   6.09109712e-02  6.71574461e-02]\n",
      " [ 2.41293948e-01  7.32547319e-02 -3.95243015e-02  3.37306790e-02\n",
      "  -2.06339843e-02 -7.33312290e-03  4.00114645e-02  1.89492869e-02\n",
      "   2.26360769e-01  2.96473780e-03]\n",
      " [ 1.93847853e-01  2.15169001e-01 -1.50102549e-01 -4.40032350e-02\n",
      "   3.34163929e-02  3.64030094e-02 -7.69389576e-02 -1.01675599e-02\n",
      "   2.38468332e-01  4.19853849e-02]\n",
      " [ 2.19657619e-01  6.66790444e-02  4.92186290e-02  4.69731778e-02\n",
      "  -2.46467338e-03  4.43789977e-02  6.14912104e-02 -1.12487259e-01\n",
      "   4.03643300e-02  1.52194277e-02]\n",
      " [ 2.68036627e-01  2.29557676e-01 -9.21666616e-02  4.65608528e-02\n",
      "   1.01799540e-01 -5.60125971e-02  2.54868221e-01 -4.55311724e-02\n",
      "  -3.01118843e-02  2.02181330e-02]\n",
      " [ 1.94132029e-01  1.81890869e-01  3.42345243e-01 -2.10888145e-03\n",
      "  -7.15385553e-02 -6.13043171e-02 -1.44929795e-01 -3.61757479e-01\n",
      "  -2.74884567e-01 -2.94858437e-02]\n",
      " [ 2.92538282e-01 -1.05828039e-01 -2.53738387e-02  2.54913812e-02\n",
      "   1.22891437e-01  1.42701692e-03  4.61177437e-02 -3.64423926e-02\n",
      "   2.07541330e-01  1.18075696e-01]\n",
      " [ 3.01015554e-01 -8.50812180e-02 -6.56104078e-02  5.57458564e-02\n",
      "   6.98301268e-01 -1.60763752e-01 -2.22430087e-01 -7.86208095e-02\n",
      "   5.71008005e-02 -1.74397114e-02]\n",
      " [ 4.60368394e-01 -1.83211631e-01 -4.31808605e-02  2.21609620e-01\n",
      "  -2.66730329e-02  3.24416571e-01  1.97558885e-03  2.65960279e-02\n",
      "  -9.65429330e-02  2.83237915e-02]\n",
      " [ 3.00247149e-01  7.40593019e-02  3.55922375e-01 -7.71621012e-03\n",
      "   3.50342649e-02  4.96517467e-02 -5.46023333e-02  4.67678638e-01\n",
      "  -1.24583415e-02  1.71569539e-02]\n",
      " [ 3.63891007e-01 -2.36204935e-01 -7.10283999e-02  6.22968659e-02\n",
      "  -1.37660355e-01  1.55029145e-01 -1.63220037e-03 -9.48069574e-02\n",
      "   8.59345371e-02 -1.17284851e-01]\n",
      " [ 3.67147963e-01 -2.99308415e-02 -2.56106495e-02  6.31931948e-02\n",
      "   5.67528565e-02 -9.41264383e-02  2.84972085e-02  3.37968337e-02\n",
      "   4.07968476e-03 -6.61472696e-02]\n",
      " [ 2.96950251e-01 -2.83978941e-02 -1.72657429e-02  1.95696974e-01\n",
      "  -9.82792330e-02 -1.50767807e-01 -1.64865037e-01 -3.98395657e-02\n",
      "   2.23933100e-01 -1.71064894e-01]\n",
      " [ 3.09765206e-01  2.30593551e-02 -7.50017928e-03  1.32086440e-01\n",
      "   3.32952277e-01 -3.24423266e-02  1.00617745e-01 -2.44715223e-02\n",
      "   1.26880114e-01  3.41000897e-02]\n",
      " [ 4.66794009e-01 -2.28716543e-01 -2.51542366e-02 -1.54621071e-01\n",
      "  -8.82536304e-02 -4.62985648e-02 -4.28669530e-02 -3.48046179e-02\n",
      "   4.91716346e-02  4.47180606e-02]\n",
      " [ 2.35321540e-01  8.68775640e-02  3.35446997e-02  6.60025298e-02\n",
      "   1.26656856e-02 -4.30045616e-02  1.53323992e-01 -6.67157400e-03\n",
      "   6.72615221e-02  5.35977733e-03]\n",
      " [ 4.05496979e-01 -2.62208545e-01 -8.34264634e-02  1.22614542e-01\n",
      "   3.72261851e-02  3.54638302e-01  4.45077829e-03 -8.18889795e-02\n",
      "  -1.10959165e-01 -5.61472622e-02]\n",
      " [ 2.46464395e-01  1.89302252e-01 -7.09995095e-03  1.52883159e-01\n",
      "   1.06307197e-01 -1.40181100e-01  5.17382316e-01  3.85201159e-02\n",
      "  -1.79403385e-01 -6.46010860e-02]\n",
      " [ 3.01541725e-01  4.33889870e-01 -3.08967482e-01 -2.75065306e-01\n",
      "  -6.73471459e-02  1.01846104e-01 -1.58955889e-01  5.17723593e-02\n",
      "   3.41451830e-02  4.50239405e-02]\n",
      " [ 2.36384668e-01  2.30047842e-01 -1.95840698e-01 -1.01567295e-01\n",
      "   1.09097940e-02  1.28142767e-02 -4.73268557e-02  1.33233510e-01\n",
      "  -7.44411733e-03 -1.61458024e-01]\n",
      " [ 4.31949573e-01 -2.10914193e-02 -7.21063396e-02  3.17558713e-01\n",
      "  -1.14806573e-01 -1.78628704e-01 -1.25401177e-01  5.66951873e-02\n",
      "   1.45498165e-01 -3.12312748e-01]\n",
      " [ 1.53498824e-01  1.32846741e-01  2.29629506e-01  7.30663053e-02\n",
      "  -1.29739592e-02 -3.10378347e-02 -2.51369477e-02  1.87461980e-02\n",
      "  -5.95397950e-02  2.95466560e-01]\n",
      " [ 5.68145333e-01 -3.20430946e-01 -7.48022409e-02 -3.06932404e-01\n",
      "  -2.54786205e-02 -2.31184257e-01 -2.07114019e-02 -1.81253995e-02\n",
      "   2.25172816e-02  1.27574017e-01]\n",
      " [ 3.87395940e-02  8.07728427e-03  2.02011195e-02  3.97247425e-02\n",
      "   1.35600818e-02 -2.53028867e-02  1.13338714e-02  5.63512779e-02\n",
      "   2.38172266e-03 -7.46283541e-02]\n",
      " [ 2.19165137e-01  1.36206883e-01  3.69236238e-01 -2.55298688e-02\n",
      "   4.60898538e-02  8.98540642e-02  1.81105314e-02  3.55862871e-02\n",
      "   6.87205870e-02  1.33828994e-01]\n",
      " [ 2.44345025e-01  1.09258260e-01  4.75562318e-01 -1.57861469e-01\n",
      "  -2.52370799e-02  5.23110377e-02 -6.96291185e-02 -4.39248408e-01\n",
      "   4.54631099e-02 -2.03135874e-01]\n",
      " [ 2.47799921e-01 -6.40162265e-02 -6.46664039e-03  2.28613074e-02\n",
      "   7.28595170e-03 -3.58026976e-02  2.16686621e-02 -1.69653502e-03\n",
      "  -3.54795650e-02  2.80904578e-02]\n",
      " [ 4.44136112e-01 -2.14935367e-01 -6.03753516e-02  1.65753869e-02\n",
      "   1.30631565e-01  7.90976701e-02 -4.56925692e-02  6.65905454e-03\n",
      "  -7.61364784e-02  5.51920007e-02]\n",
      " [ 3.19948011e-01  3.09602711e-02 -1.47962390e-02  1.59752866e-01\n",
      "  -7.47847062e-02 -1.04529491e-01  2.68676961e-02  8.63158888e-02\n",
      "   3.57058126e-02 -2.69993204e-01]\n",
      " [ 4.76147105e-01 -2.06562004e-01 -1.13514380e-02 -7.74346008e-02\n",
      "  -1.54139713e-01 -6.38346891e-02  1.09047562e-02  4.92770463e-02\n",
      "   6.78519744e-02 -1.09433006e-01]\n",
      " [ 1.71939189e-01  1.13859523e-02  1.15685224e-02  2.10309450e-01\n",
      "  -1.17463753e-01  9.73635246e-02 -2.07048950e-02 -1.11918514e-01\n",
      "   2.24256005e-01 -2.28367812e-01]\n",
      " [ 3.05223207e-01 -1.29179438e-02  3.93967323e-03  2.31537697e-02\n",
      "  -5.52938028e-02 -4.13913771e-02  1.02609046e-01 -7.75514219e-02\n",
      "   3.38747406e-01  1.43003830e-01]\n",
      " [ 1.68395594e-01  6.55074476e-02  9.51422627e-02 -4.21386087e-02\n",
      "   1.33995508e-02  1.19532585e-02  1.45470766e-01 -1.18298596e-01\n",
      "   8.35125955e-02  1.86461407e-01]\n",
      " [ 2.36256433e-01  1.90229068e-02  1.05225528e-01  2.42775197e-02\n",
      "  -9.18619753e-02 -4.78539347e-03  3.15526084e-02 -7.55677990e-02\n",
      "   1.70985213e-01 -1.06820055e-04]\n",
      " [ 5.20933968e-01 -1.71237600e-01  2.09442396e-02 -1.13522049e-01\n",
      "  -7.13005926e-02 -9.65883897e-02  3.35097012e-02  9.25113365e-02\n",
      "  -6.19939631e-02 -1.50187705e-01]\n",
      " [ 3.78738916e-01  3.68314422e-01 -2.15609737e-01 -9.37066684e-02\n",
      "  -2.83655232e-02  1.02975944e-01 -4.36403015e-02  4.57806320e-02\n",
      "   2.49400074e-02  6.32526252e-02]\n",
      " [ 4.17555827e-01 -7.83369273e-02 -2.96332187e-02  2.85113116e-01\n",
      "  -1.71560729e-01  9.72060482e-02 -8.83166039e-02 -5.30989258e-02\n",
      "   2.01432915e-01 -1.47541645e-01]\n",
      " [ 2.36669416e-01 -1.44027325e-02  5.29881053e-03  1.73653868e-01\n",
      "  -2.41194124e-02 -1.34050735e-02 -2.78330616e-02  3.49315779e-02\n",
      "   3.03424718e-02 -3.86403402e-02]\n",
      " [ 2.07147663e-01  1.32255334e-01  4.83185549e-01 -1.38016457e-01\n",
      "  -1.01561221e-02  8.03398151e-02 -9.84260102e-02 -3.99749407e-01\n",
      "   2.58559244e-02 -1.94233561e-01]\n",
      " [ 1.76377637e-01  8.36711637e-02  6.68421261e-02  1.14188607e-01\n",
      "  -2.53027941e-02  1.07094193e-02 -1.68250758e-02 -8.15670855e-02\n",
      "   3.43644895e-02  3.61971563e-01]\n",
      " [ 3.24628723e-01 -1.85801898e-01 -4.42842430e-02 -2.62314225e-02\n",
      "   1.99220036e-03  6.96154619e-02 -7.06696019e-03 -3.11108052e-02\n",
      "  -5.06151805e-02  8.28863736e-02]\n",
      " [ 4.86212356e-01 -1.53633566e-01 -1.09098229e-02 -1.39427866e-01\n",
      "  -2.04446625e-03 -1.36472477e-01  6.33926027e-02  3.57908601e-02\n",
      "  -1.10351138e-01 -1.76866262e-02]\n",
      " [ 4.37292040e-01 -2.86558114e-01 -8.72842487e-02  4.60110642e-02\n",
      "   3.38047592e-02  2.67868105e-01 -2.66378351e-02 -3.73884289e-02\n",
      "  -8.71521076e-02  1.17235183e-02]\n",
      " [ 5.50142493e-01 -2.56874881e-01 -6.92599968e-02 -2.35432528e-02\n",
      "  -5.92082987e-02  4.08077400e-02  4.55951970e-02  1.40868092e-02\n",
      "  -7.17140687e-02 -5.19549771e-02]\n",
      " [ 3.56859083e-01  2.13440304e-01 -1.14012791e-01  3.91448803e-02\n",
      "   3.58231604e-01 -1.48229428e-01 -1.23966678e-01 -1.87811971e-02\n",
      "  -9.20441747e-02 -9.16810387e-02]\n",
      " [ 4.63539384e-01 -2.79856942e-01 -7.02846753e-02 -2.78354984e-01\n",
      "  -7.35681250e-02 -1.94824700e-01  4.21089901e-02  2.65068661e-02\n",
      "   1.58298868e-02  3.11752913e-02]\n",
      " [ 2.22119857e-01 -4.94618849e-02 -4.14562425e-02  1.00874322e-01\n",
      "   6.72585233e-01 -1.17286040e-01 -2.05906243e-01 -5.99728230e-02\n",
      "   3.88558838e-02 -5.75296947e-02]\n",
      " [ 6.19413380e-01 -2.14685312e-01  9.51726307e-03 -3.12737015e-02\n",
      "  -1.34012663e-01 -4.21138222e-02 -1.60858233e-03  5.33932292e-02\n",
      "   2.13876102e-02 -1.24547105e-01]\n",
      " [ 4.94366547e-01 -2.63382486e-01 -9.08008681e-02  1.75171081e-01\n",
      "   2.08954193e-02  4.40053166e-01  1.60803511e-02 -5.36268942e-03\n",
      "  -1.11827368e-01  1.41984266e-01]\n",
      " [ 4.36424530e-01 -1.75721502e-01 -3.00208843e-02  1.24362311e-02\n",
      "  -1.87673589e-02  2.18082585e-01 -7.27245814e-02 -3.66015974e-02\n",
      "  -3.03954040e-02  1.34068473e-01]\n",
      " [ 2.43501786e-01  5.11582921e-02  1.24741689e-02  4.14181578e-02\n",
      "  -7.59391885e-03 -1.88074722e-02  8.77217202e-02  5.60466254e-02\n",
      "  -3.36592309e-02 -6.84268613e-02]\n",
      " [ 5.20289939e-01 -3.28136820e-01 -4.69980450e-02 -3.37768348e-01\n",
      "  -1.05178636e-01 -2.49796883e-01 -9.35457324e-03 -8.14895666e-03\n",
      "  -3.41785980e-02  4.30434407e-02]\n",
      " [ 3.30286283e-01  3.33454351e-01 -1.59601062e-01 -6.08487553e-02\n",
      "   1.30701998e-02  1.69307137e-02 -5.57327617e-02 -3.06680641e-02\n",
      "  -8.93198834e-02 -5.30817261e-02]\n",
      " [ 2.14706106e-01 -2.75829891e-02  2.48835595e-02  1.65229024e-01\n",
      "   1.85193140e-02  1.50024390e-01 -1.15542409e-02 -2.44654672e-02\n",
      "  -1.69661144e-02  5.35999657e-02]\n",
      " [ 0.00000000e+00  0.00000000e+00  0.00000000e+00  0.00000000e+00\n",
      "   0.00000000e+00  0.00000000e+00  0.00000000e+00  0.00000000e+00\n",
      "   0.00000000e+00  0.00000000e+00]\n",
      " [ 2.08711489e-01  7.49165945e-02  2.17335167e-03  1.71712677e-01\n",
      "  -8.31616602e-02 -3.09613621e-02  1.99136497e-02 -9.32230316e-02\n",
      "   3.54752608e-01  5.15660658e-03]\n",
      " [ 5.04124948e-01 -2.60164703e-01 -6.47437274e-02  1.62912407e-02\n",
      "  -5.83066226e-03  1.94978943e-01  3.23723290e-02 -7.29551850e-03\n",
      "   1.47744128e-02  2.67020599e-02]\n",
      " [ 4.39097071e-01  1.80476375e-01 -2.18313205e-02  1.30101141e-01\n",
      "   6.30371367e-02 -1.83622306e-01  4.14064194e-01  9.88214982e-02\n",
      "  -1.91102005e-01 -2.07365452e-01]\n",
      " [ 3.87208556e-01  9.07053209e-02  5.66869849e-04  4.47256271e-01\n",
      "  -2.41031042e-01 -3.01234789e-01 -2.56244763e-01 -4.54575665e-02\n",
      "   2.30362578e-02  4.74843479e-03]\n",
      " [ 4.50184795e-01 -1.62405935e-01  1.77490003e-02  7.50852904e-02\n",
      "   1.98260896e-02  2.42341772e-01  6.28952692e-02  4.77849590e-02\n",
      "  -1.16403300e-01 -4.84592432e-02]\n",
      " [ 4.06086010e-01  8.60618911e-02  5.16568669e-01 -1.08227126e-01\n",
      "  -7.58193491e-03  3.41997392e-02 -1.10783398e-01  3.13625886e-01\n",
      "   1.46466567e-02 -1.97393321e-01]\n",
      " [ 3.67054687e-01  1.01661834e-01  5.39900864e-01 -1.21853475e-01\n",
      "  -1.38030162e-02  4.98921119e-02 -1.14180606e-01  1.89606698e-01\n",
      "   1.76050697e-02 -1.76950902e-01]\n",
      " [ 4.48760738e-01 -2.49501282e-01 -7.44293871e-02  1.82362264e-01\n",
      "   3.91284095e-02  4.11167221e-01 -2.14427360e-02 -6.23860986e-02\n",
      "  -9.02860300e-02 -4.88328044e-02]\n",
      " [ 3.20019310e-01 -1.68841399e-01 -3.01390641e-02  8.11037599e-02\n",
      "   6.12123102e-02  2.80404242e-01  5.49725025e-03 -9.75518361e-03\n",
      "  -1.75394494e-01  5.24987862e-02]\n",
      " [ 3.44677272e-01  4.34182844e-01 -2.88880636e-01 -3.30585284e-02\n",
      "  -1.30265620e-01  6.29193480e-02 -2.75582391e-01  4.30924242e-02\n",
      "   1.36385175e-01 -3.27183068e-02]\n",
      " [ 3.03557132e-01  5.86863974e-02 -4.58630602e-02  3.04944640e-01\n",
      "  -1.50237811e-01 -2.74490718e-01 -1.46716014e-01  9.67496746e-03\n",
      "  -5.55630727e-02  1.71551054e-01]\n",
      " [ 3.31625222e-01  5.80918013e-02 -8.92290662e-03  3.91945096e-01\n",
      "  -1.68873251e-01 -2.39171091e-01 -1.41275418e-01  7.41841978e-03\n",
      "  -8.36188291e-02  2.64346999e-01]\n",
      " [ 2.12774837e-01  2.35467756e-01 -1.56966038e-01 -1.30820040e-01\n",
      "   1.10553905e-02  9.69044983e-02 -1.38915194e-01  3.61359474e-02\n",
      "   1.24971246e-01 -7.23606352e-02]\n",
      " [ 1.38478822e-01  8.66648117e-02  1.81100893e-01  5.32538782e-02\n",
      "   1.94642849e-02  1.03839559e-02  6.68196789e-02 -3.10711915e-02\n",
      "   6.51899001e-02  3.28906334e-01]\n",
      " [ 3.01224086e-01 -1.14537947e-01 -6.79308044e-02  2.43220556e-02\n",
      "   6.94982304e-01 -1.43550732e-01 -2.03771086e-01 -8.21338966e-02\n",
      "   3.97827968e-02 -2.61310283e-02]\n",
      " [ 2.99540536e-01 -1.57923383e-01 -4.41962694e-02 -4.57178686e-02\n",
      "   4.47445593e-02  7.71246905e-02  2.10905785e-02  2.45039532e-02\n",
      "  -1.27249465e-02  8.88958625e-02]\n",
      " [ 6.18459644e-01 -2.87203843e-01 -4.48078187e-02 -2.69381589e-01\n",
      "  -9.42805855e-02 -1.98828760e-01  2.46298941e-02  4.45379913e-02\n",
      "  -8.37263993e-02 -2.82452619e-02]\n",
      " [ 2.14671562e-01  6.40440558e-02  9.81112896e-03  1.14104454e-01\n",
      "  -1.04351600e-01 -9.01890400e-02 -1.50175567e-02 -3.15963381e-02\n",
      "  -8.09650597e-02 -6.21396750e-02]\n",
      " [ 4.28551230e-01 -2.49672644e-01 -6.01449476e-02 -1.86043591e-01\n",
      "   1.99501073e-02 -1.53754684e-01 -1.00433199e-02 -1.03595145e-02\n",
      "  -8.68373855e-02  2.14716336e-02]\n",
      " [ 5.12058572e-01 -2.06595313e-01 -2.68835930e-02 -2.52323768e-01\n",
      "  -5.81873088e-02 -1.28761411e-01  1.28164558e-02 -7.09740173e-02\n",
      "   7.44986538e-02  1.09207299e-01]\n",
      " [ 3.09865647e-01  3.87439216e-01 -2.25553989e-01 -1.67144201e-01\n",
      "  -2.24433159e-02  1.54856003e-01 -1.49312932e-01  7.64921127e-02\n",
      "   1.33678027e-01 -7.83648440e-03]\n",
      " [ 3.38849509e-01  3.62561425e-01 -8.40546919e-02 -1.07465442e-01\n",
      "  -1.36943940e-02  8.10686138e-02  1.10165227e-02 -1.35251140e-02\n",
      "   5.19786374e-02 -2.67589542e-02]\n",
      " [ 1.90808440e-01  2.27104993e-02  7.09045713e-02  1.21967315e-02\n",
      "  -4.01085843e-02 -1.58508806e-02  4.72755605e-02 -8.91041978e-02\n",
      "   1.13292111e-01  1.89992401e-02]\n",
      " [ 2.68246925e-01  2.38084475e-01  1.57143434e-01 -5.88350509e-02\n",
      "   2.75984501e-02  1.66180943e-02  2.20249670e-01 -2.74589922e-01\n",
      "   1.57812651e-02 -1.63062873e-01]\n",
      " [ 3.77785249e-01  2.88225113e-01 -1.83411119e-01  1.06259191e-02\n",
      "   2.40808112e-02  1.45500877e-01  5.02803161e-02  8.91215676e-04\n",
      "   5.65563602e-02  1.45702337e-01]\n",
      " [ 3.07785673e-01  4.48584856e-01 -2.21559118e-01 -2.11204879e-01\n",
      "  -4.76230017e-02  1.00054138e-01 -2.49512674e-01  2.00645432e-02\n",
      "  -2.15657483e-01  5.43914651e-02]\n",
      " [ 2.72987133e-01  3.37983905e-01 -9.85153342e-02 -9.43579814e-02\n",
      "   1.60848159e-02  7.00626291e-03 -1.59679934e-02 -8.67241029e-02\n",
      "  -1.85652039e-01  3.21901686e-02]\n",
      " [ 2.49428428e-01  6.46861235e-02 -5.42434457e-02  3.99144952e-01\n",
      "  -9.72926430e-02 -2.41251507e-01 -2.11506393e-01 -2.96145582e-03\n",
      "  -8.56339841e-02  2.79048189e-01]\n",
      " [ 3.32141718e-01  3.81077833e-01 -1.75833922e-01 -4.36112799e-02\n",
      "  -1.78594576e-02  9.69232722e-02  1.76313534e-01 -6.12710136e-02\n",
      "   2.57634896e-01  7.44516760e-02]\n",
      " [ 3.35178243e-01  3.41286333e-01 -1.68631304e-01 -7.44316693e-02\n",
      "   3.10892694e-02  3.87457112e-02  6.91721683e-02  2.98224437e-02\n",
      "   1.23354010e-01 -1.02086522e-01]\n",
      " [ 3.08086251e-01  2.57260245e-01 -5.94425485e-02 -7.74369192e-03\n",
      "  -3.88655348e-02  2.22970407e-03  1.87727945e-01 -6.71455880e-02\n",
      "  -4.82982754e-02  8.52595217e-03]\n",
      " [ 1.59608641e-01  1.28423770e-01  2.51620406e-01  3.36025055e-02\n",
      "  -1.77529557e-02 -7.77471916e-03 -2.07836971e-02 -5.24766180e-02\n",
      "  -9.73617997e-02  1.67148297e-01]\n",
      " [ 3.38778302e-01  3.96199724e-01 -2.10736057e-01 -1.53953929e-01\n",
      "  -6.08766676e-02  5.15803000e-02 -1.93685388e-01  3.06574880e-02\n",
      "  -3.15973408e-01  6.77270305e-03]\n",
      " [ 2.60089436e-01  1.64521104e-01  4.06755065e-01 -1.22755191e-02\n",
      "  -2.19019186e-02 -9.14095169e-03 -1.46742828e-01 -3.21801489e-01\n",
      "  -1.57026997e-01  4.65019515e-02]\n",
      " [ 3.18683216e-01  7.92389693e-02  4.15500652e-02  5.33393067e-02\n",
      "   6.57135803e-02  3.43875186e-02  2.28077732e-01  1.30466871e-03\n",
      "   1.05352472e-01  4.46417775e-02]\n",
      " [ 2.64562636e-01  1.20531658e-01  4.34296557e-01 -1.84594957e-02\n",
      "   7.39498041e-02  7.17936200e-02 -8.55811132e-02  4.99373814e-01\n",
      "   5.12382780e-02  2.69562995e-02]\n",
      " [ 1.69301480e-01 -6.86266151e-03  1.74804410e-02 -5.42683097e-02\n",
      "   1.86001248e-02 -6.27635889e-02  5.15732540e-02 -9.19039478e-02\n",
      "   1.88615777e-01  1.62772470e-01]\n",
      " [ 3.50665158e-01  3.02918075e-01 -7.63621619e-03  1.65544604e-02\n",
      "   5.84991993e-02  2.24006790e-02  3.11293751e-01 -8.31217658e-02\n",
      "  -1.11692985e-02  6.33177692e-02]\n",
      " [ 5.01729491e-01 -2.66262386e-01 -5.36973056e-02 -3.10183371e-01\n",
      "  -8.12602902e-02 -2.13143621e-01  6.53453818e-02 -4.05609765e-02\n",
      "   1.70095923e-01  1.67400107e-01]\n",
      " [ 2.41155282e-01 -3.23756710e-03 -3.23266308e-02  1.82648376e-01\n",
      "  -8.97179198e-03 -7.31447041e-03  8.03095430e-03  2.61558829e-02\n",
      "  -4.40133551e-02 -2.06415002e-01]\n",
      " [ 3.69658166e-01  2.05844771e-01  9.17718204e-02  1.22546227e-01\n",
      "   1.18210018e-01 -1.00311261e-01  5.13742318e-01  2.87999040e-02\n",
      "  -5.98462807e-02 -3.09424860e-02]\n",
      " [ 2.50464797e-01  1.07172572e-01  4.10834906e-01 -8.31363739e-02\n",
      "  -2.43788756e-02  1.60226979e-02 -1.48006869e-01 -2.55760493e-01\n",
      "  -5.37986771e-02 -1.51586795e-02]]\n",
      "(100, 10)\n"
     ]
    }
   ],
   "source": [
    "print(lsa_top)\n",
    "print(lsa_top.shape)  # (no_of_doc*no_of_topics)"
   ]
  },
  {
   "cell_type": "code",
   "execution_count": 25,
   "id": "01effa9a",
   "metadata": {},
   "outputs": [
    {
     "name": "stdout",
     "output_type": "stream",
     "text": [
      "Document 0 :\n",
      "Topic  0  :  37.24177715376966\n",
      "Topic  1  :  25.92824049491094\n",
      "Topic  2  :  -5.972752939542046\n",
      "Topic  3  :  4.792164599199658\n",
      "Topic  4  :  -6.780313405220315\n",
      "Topic  5  :  -14.266959446025924\n",
      "Topic  6  :  6.04199907035581\n",
      "Topic  7  :  -0.9946046949736325\n",
      "Topic  8  :  -35.03844259212522\n",
      "Topic  9  :  0.21798757905645583\n"
     ]
    }
   ],
   "source": [
    "l=lsa_top[0]\n",
    "print(\"Document 0 :\")\n",
    "for i,topic in enumerate(l):\n",
    "  print(\"Topic \",i,\" : \",topic*100)"
   ]
  },
  {
   "cell_type": "code",
   "execution_count": 26,
   "id": "9dca7a9f",
   "metadata": {},
   "outputs": [
    {
     "name": "stdout",
     "output_type": "stream",
     "text": [
      "(10, 1000)\n",
      "[[ 1.10130123e-02  2.65631595e-03  1.01877906e-02 ...  2.64877570e-01\n",
      "   5.32269567e-03  2.95633424e-03]\n",
      " [ 1.94744176e-02  7.33837354e-03  1.82721517e-02 ...  6.69685163e-02\n",
      "  -5.37271839e-03  4.82549370e-03]\n",
      " [ 3.09189231e-02 -8.08863754e-03 -5.28046545e-03 ...  8.46363072e-02\n",
      "  -9.74394305e-04  1.73142093e-02]\n",
      " ...\n",
      " [-4.79940895e-02  9.57572864e-03  3.44920593e-03 ... -4.38722120e-02\n",
      "  -3.55899397e-05 -2.01516769e-02]\n",
      " [-4.51453745e-02 -5.17854254e-04 -2.70715518e-02 ...  4.15941714e-02\n",
      "   3.94495663e-03 -9.82777809e-03]\n",
      " [ 4.53136496e-03 -1.31942143e-02 -1.55033109e-02 ... -9.65912964e-03\n",
      "   2.80841858e-03  3.79303307e-03]]\n"
     ]
    }
   ],
   "source": [
    "print(lsa_model.components_.shape) # (no_of_topics*no_of_words)\n",
    "print(lsa_model.components_)"
   ]
  },
  {
   "cell_type": "markdown",
   "id": "759e9260",
   "metadata": {},
   "source": [
    "<h1>Mengekstrak Topik dan Term</h1>"
   ]
  },
  {
   "cell_type": "code",
   "execution_count": 27,
   "id": "9a6218d5",
   "metadata": {},
   "outputs": [
    {
     "name": "stdout",
     "output_type": "stream",
     "text": [
      "Topic 0: \n",
      "yang dan variabel keputusan pembelian terhadap penelitian produk uji kerja \n",
      "\n",
      "Topic 1: \n",
      "kerja karyawan kinerja produktivitas prestasi pegawai pt perusahaan sebesar keselamatan \n",
      "\n",
      "Topic 2: \n",
      "saham perusahaan return ratio asset portofolio tahun terdaftar equity 2011 \n",
      "\n",
      "Topic 3: \n",
      "nasabah kepuasan bank merek loyalitas bangkalan nilai kualitas cabang pelanggan \n",
      "\n",
      "Topic 4: \n",
      "pesan iklan isi televisi format struktur langsung konsumen pantene sumber \n",
      "\n",
      "Topic 5: \n",
      "merek kerja brand asosiasi honda motor vario ekuitas image sepeda \n",
      "\n",
      "Topic 6: \n",
      "kompensasi kinerja karyawan finansial langsung kepemimpinan fhitung nonfinansial rekrutmen kompetensi \n",
      "\n",
      "Topic 7: \n",
      "ratio asset current equity debt variabel uji signifikan roe firm \n",
      "\n",
      "Topic 8: \n",
      "kepuasan kualitas akademik madura universitas trunojoyo online mahasiswa pelayanan faktor \n",
      "\n",
      "Topic 9: \n",
      "tahun bank nasabah cabang piutang loyalitas rasio sidogiri bangkalan keuangan \n",
      "\n"
     ]
    }
   ],
   "source": [
    "# most important words for each topic\n",
    "vocab = vect.get_feature_names()\n",
    "\n",
    "for i, comp in enumerate(lsa_model.components_):\n",
    "    vocab_comp = zip(vocab, comp)\n",
    "    sorted_words = sorted(vocab_comp, key= lambda x:x[1], reverse=True)[:10]\n",
    "    print(\"Topic \"+str(i)+\": \")\n",
    "    for t in sorted_words:\n",
    "        print(t[0],end=\" \")\n",
    "    print(\"\\n\")"
   ]
  },
  {
   "cell_type": "markdown",
   "id": "2d4ae7dc",
   "metadata": {},
   "source": [
    "<h1>K-Means</h1>"
   ]
  },
  {
   "cell_type": "code",
   "execution_count": 28,
   "id": "ba9cc259",
   "metadata": {},
   "outputs": [
    {
     "name": "stdout",
     "output_type": "stream",
     "text": [
      "Requirement already satisfied: pandas in c:\\users\\asus\\appdata\\local\\programs\\python\\python39\\lib\\site-packages (1.4.2)\n",
      "Requirement already satisfied: pytz>=2020.1 in c:\\users\\asus\\appdata\\local\\programs\\python\\python39\\lib\\site-packages (from pandas) (2022.1)\n",
      "Requirement already satisfied: python-dateutil>=2.8.1 in c:\\users\\asus\\appdata\\local\\programs\\python\\python39\\lib\\site-packages (from pandas) (2.8.2)\n",
      "Requirement already satisfied: numpy>=1.18.5; platform_machine != \"aarch64\" and platform_machine != \"arm64\" and python_version < \"3.10\" in c:\\users\\asus\\appdata\\local\\programs\\python\\python39\\lib\\site-packages (from pandas) (1.22.3)\n",
      "Requirement already satisfied: six>=1.5 in c:\\users\\asus\\appdata\\roaming\\python\\python39\\site-packages (from python-dateutil>=2.8.1->pandas) (1.15.0)\n",
      "Note: you may need to restart the kernel to use updated packages.\n"
     ]
    },
    {
     "name": "stderr",
     "output_type": "stream",
     "text": [
      "WARNING: You are using pip version 20.2.3; however, version 22.1.2 is available.\n",
      "You should consider upgrading via the 'c:\\users\\asus\\appdata\\local\\programs\\python\\python39\\python.exe -m pip install --upgrade pip' command.\n"
     ]
    }
   ],
   "source": [
    "pip install pandas"
   ]
  },
  {
   "cell_type": "code",
   "execution_count": 34,
   "id": "1c2f43cd",
   "metadata": {},
   "outputs": [],
   "source": [
    "import pandas as pd\n",
    "import numpy as np\n",
    "#Import Library untuk Tokenisasi\n",
    "import string \n",
    "import re #regex library\n",
    "\n",
    "# import word_tokenize & FreqDist dari NLTK\n",
    "from nltk.tokenize import word_tokenize \n",
    "from nltk.probability import FreqDist\n",
    "from nltk.corpus import stopwords\n",
    "\n",
    "import matplotlib.pyplot as plt \n",
    "from sklearn.feature_extraction.text import CountVectorizer\n",
    "from sklearn.feature_extraction.text import TfidfVectorizer\n",
    "from sklearn.cluster import KMeans\n",
    "from sklearn.metrics import adjusted_rand_score\n",
    "from sklearn.datasets import make_blobs\n",
    "from sklearn.metrics import davies_bouldin_score"
   ]
  },
  {
   "cell_type": "code",
   "execution_count": 35,
   "id": "31066e7d",
   "metadata": {},
   "outputs": [
    {
     "data": {
      "text/html": [
       "<style>#sk-container-id-1 {color: black;background-color: white;}#sk-container-id-1 pre{padding: 0;}#sk-container-id-1 div.sk-toggleable {background-color: white;}#sk-container-id-1 label.sk-toggleable__label {cursor: pointer;display: block;width: 100%;margin-bottom: 0;padding: 0.3em;box-sizing: border-box;text-align: center;}#sk-container-id-1 label.sk-toggleable__label-arrow:before {content: \"▸\";float: left;margin-right: 0.25em;color: #696969;}#sk-container-id-1 label.sk-toggleable__label-arrow:hover:before {color: black;}#sk-container-id-1 div.sk-estimator:hover label.sk-toggleable__label-arrow:before {color: black;}#sk-container-id-1 div.sk-toggleable__content {max-height: 0;max-width: 0;overflow: hidden;text-align: left;background-color: #f0f8ff;}#sk-container-id-1 div.sk-toggleable__content pre {margin: 0.2em;color: black;border-radius: 0.25em;background-color: #f0f8ff;}#sk-container-id-1 input.sk-toggleable__control:checked~div.sk-toggleable__content {max-height: 200px;max-width: 100%;overflow: auto;}#sk-container-id-1 input.sk-toggleable__control:checked~label.sk-toggleable__label-arrow:before {content: \"▾\";}#sk-container-id-1 div.sk-estimator input.sk-toggleable__control:checked~label.sk-toggleable__label {background-color: #d4ebff;}#sk-container-id-1 div.sk-label input.sk-toggleable__control:checked~label.sk-toggleable__label {background-color: #d4ebff;}#sk-container-id-1 input.sk-hidden--visually {border: 0;clip: rect(1px 1px 1px 1px);clip: rect(1px, 1px, 1px, 1px);height: 1px;margin: -1px;overflow: hidden;padding: 0;position: absolute;width: 1px;}#sk-container-id-1 div.sk-estimator {font-family: monospace;background-color: #f0f8ff;border: 1px dotted black;border-radius: 0.25em;box-sizing: border-box;margin-bottom: 0.5em;}#sk-container-id-1 div.sk-estimator:hover {background-color: #d4ebff;}#sk-container-id-1 div.sk-parallel-item::after {content: \"\";width: 100%;border-bottom: 1px solid gray;flex-grow: 1;}#sk-container-id-1 div.sk-label:hover label.sk-toggleable__label {background-color: #d4ebff;}#sk-container-id-1 div.sk-serial::before {content: \"\";position: absolute;border-left: 1px solid gray;box-sizing: border-box;top: 0;bottom: 0;left: 50%;z-index: 0;}#sk-container-id-1 div.sk-serial {display: flex;flex-direction: column;align-items: center;background-color: white;padding-right: 0.2em;padding-left: 0.2em;position: relative;}#sk-container-id-1 div.sk-item {position: relative;z-index: 1;}#sk-container-id-1 div.sk-parallel {display: flex;align-items: stretch;justify-content: center;background-color: white;position: relative;}#sk-container-id-1 div.sk-item::before, #sk-container-id-1 div.sk-parallel-item::before {content: \"\";position: absolute;border-left: 1px solid gray;box-sizing: border-box;top: 0;bottom: 0;left: 50%;z-index: -1;}#sk-container-id-1 div.sk-parallel-item {display: flex;flex-direction: column;z-index: 1;position: relative;background-color: white;}#sk-container-id-1 div.sk-parallel-item:first-child::after {align-self: flex-end;width: 50%;}#sk-container-id-1 div.sk-parallel-item:last-child::after {align-self: flex-start;width: 50%;}#sk-container-id-1 div.sk-parallel-item:only-child::after {width: 0;}#sk-container-id-1 div.sk-dashed-wrapped {border: 1px dashed gray;margin: 0 0.4em 0.5em 0.4em;box-sizing: border-box;padding-bottom: 0.4em;background-color: white;}#sk-container-id-1 div.sk-label label {font-family: monospace;font-weight: bold;display: inline-block;line-height: 1.2em;}#sk-container-id-1 div.sk-label-container {text-align: center;}#sk-container-id-1 div.sk-container {/* jupyter's `normalize.less` sets `[hidden] { display: none; }` but bootstrap.min.css set `[hidden] { display: none !important; }` so we also need the `!important` here to be able to override the default hidden behavior on the sphinx rendered scikit-learn.org. See: https://github.com/scikit-learn/scikit-learn/issues/21755 */display: inline-block !important;position: relative;}#sk-container-id-1 div.sk-text-repr-fallback {display: none;}</style><div id=\"sk-container-id-1\" class=\"sk-top-container\"><div class=\"sk-text-repr-fallback\"><pre>KMeans(max_iter=100, n_clusters=4, n_init=1)</pre><b>In a Jupyter environment, please rerun this cell to show the HTML representation or trust the notebook. <br />On GitHub, the HTML representation is unable to render, please try loading this page with nbviewer.org.</b></div><div class=\"sk-container\" hidden><div class=\"sk-item\"><div class=\"sk-estimator sk-toggleable\"><input class=\"sk-toggleable__control sk-hidden--visually\" id=\"sk-estimator-id-1\" type=\"checkbox\" checked><label for=\"sk-estimator-id-1\" class=\"sk-toggleable__label sk-toggleable__label-arrow\">KMeans</label><div class=\"sk-toggleable__content\"><pre>KMeans(max_iter=100, n_clusters=4, n_init=1)</pre></div></div></div></div></div>"
      ],
      "text/plain": [
       "KMeans(max_iter=100, n_clusters=4, n_init=1)"
      ]
     },
     "execution_count": 35,
     "metadata": {},
     "output_type": "execute_result"
    }
   ],
   "source": [
    "true_k = 4\n",
    "model = KMeans(n_clusters= true_k, init='k-means++', max_iter=100, n_init=1)\n",
    "model.fit(vect_text)"
   ]
  },
  {
   "cell_type": "code",
   "execution_count": 36,
   "id": "5ce195b9",
   "metadata": {},
   "outputs": [
    {
     "name": "stdout",
     "output_type": "stream",
     "text": [
      "kata teratas per cluster:\n",
      "cluster 0:\n",
      " kerja\n",
      " karyawan\n",
      " dan\n",
      " yang\n",
      " produktivitas\n",
      " kinerja\n",
      " pt\n",
      " prestasi\n",
      " variabel\n",
      " terhadap\n",
      "cluster 1:\n",
      " yang\n",
      " dan\n",
      " variabel\n",
      " keputusan\n",
      " pembelian\n",
      " produk\n",
      " terhadap\n",
      " uji\n",
      " penelitian\n",
      " merek\n",
      "cluster 2:\n",
      " tahun\n",
      " yang\n",
      " dan\n",
      " online\n",
      " akademik\n",
      " faktor\n",
      " pada\n",
      " kinerja\n",
      " kompetensi\n",
      " universitas\n",
      "cluster 3:\n",
      " pesan\n",
      " langsung\n",
      " isi\n",
      " iklan\n",
      " yang\n",
      " pengaruh\n",
      " konsumen\n",
      " terhadap\n",
      " dan\n",
      " tom\n"
     ]
    },
    {
     "name": "stderr",
     "output_type": "stream",
     "text": [
      "c:\\users\\asus\\appdata\\local\\programs\\python\\python39\\lib\\site-packages\\sklearn\\utils\\deprecation.py:87: FutureWarning: Function get_feature_names is deprecated; get_feature_names is deprecated in 1.0 and will be removed in 1.2. Please use get_feature_names_out instead.\n",
      "  warnings.warn(msg, category=FutureWarning)\n"
     ]
    }
   ],
   "source": [
    "print(\"kata teratas per cluster:\")\n",
    "order_centroids = model.cluster_centers_.argsort()[:, ::-1]\n",
    "terms = vect.get_feature_names()\n",
    "for i in range(4):\n",
    "    print(\"cluster %d:\" % i),\n",
    "    for ind in order_centroids[i, :10]:\n",
    "        print(' %s' % terms[ind]),\n",
    "    print"
   ]
  },
  {
   "cell_type": "code",
   "execution_count": 37,
   "id": "aad15886",
   "metadata": {},
   "outputs": [
    {
     "name": "stdout",
     "output_type": "stream",
     "text": [
      "\n",
      "\n",
      "Prediksi\n",
      "[2]\n"
     ]
    }
   ],
   "source": [
    "print( \"\\n\" ) \n",
    "print( \"Prediksi\" )\n",
    "\n",
    "Y = vect.transform([ \"mengetahui media pemasaran\" ]) \n",
    "prediksi = model.predict(Y) \n",
    "print(prediksi)"
   ]
  },
  {
   "cell_type": "code",
   "execution_count": 38,
   "id": "bcf2c781",
   "metadata": {},
   "outputs": [
    {
     "name": "stdout",
     "output_type": "stream",
     "text": [
      "[[422 385 179 ... 410 766 322]\n",
      " [997 179 970 ... 629 428 267]\n",
      " [901 997 179 ... 362 691 999]\n",
      " [719 473 358 ... 868 869 999]]\n"
     ]
    }
   ],
   "source": [
    "print(order_centroids)"
   ]
  },
  {
   "cell_type": "code",
   "execution_count": null,
   "id": "1a7cee75",
   "metadata": {},
   "outputs": [],
   "source": []
  }
 ],
 "metadata": {
  "kernelspec": {
   "display_name": "Python 3 (ipykernel)",
   "language": "python",
   "name": "python3"
  },
  "language_info": {
   "codemirror_mode": {
    "name": "ipython",
    "version": 3
   },
   "file_extension": ".py",
   "mimetype": "text/x-python",
   "name": "python",
   "nbconvert_exporter": "python",
   "pygments_lexer": "ipython3",
   "version": "3.9.0"
  }
 },
 "nbformat": 4,
 "nbformat_minor": 5
}
